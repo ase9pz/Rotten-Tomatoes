{
 "cells": [
  {
   "cell_type": "code",
   "execution_count": 135,
   "id": "6e08d9a4-7f02-4be4-b176-b3f3d7cb58cd",
   "metadata": {},
   "outputs": [],
   "source": []
  },
  {
   "cell_type": "code",
   "execution_count": 227,
   "id": "9490a165-b124-4423-bb9d-0ced369713f5",
   "metadata": {},
   "outputs": [
    {
     "name": "stdout",
     "output_type": "stream",
     "text": [
      "The average probability above 35.0% for final reviews 75-89: 0.8933\n"
     ]
    }
   ],
   "source": [
    "import math\n",
    "\n",
    "initial_reviews = 54         # Number of reviews at the start\n",
    "bucket_threshold = 0.35  # Define the threshold (e.g., 50% positive reviews)\n",
    "\n",
    "def bucket_chance(final_reviews):\n",
    "    # Inside the function, use final_reviews passed as a parameter\n",
    "    additional_reviews = final_reviews - initial_reviews       # Future reviews to be added\n",
    "    initial_rating = 0.3888 # Initial Rotten Tomatoes score as a decimal\n",
    "    num_pos_reviews = round(initial_rating * initial_reviews)  # Initial positive reviews\n",
    "\n",
    "    def binomial_probability(n, k, p):\n",
    "        return math.comb(n, k) * (p ** k) * ((1 - p) ** (n - k))\n",
    "\n",
    "    # List to store all possible outcomes\n",
    "    possible_outcomes = []\n",
    "\n",
    "    for future_pos_reviews in range(0, additional_reviews + 1):\n",
    "        # Calculate the final number of positive reviews and final rating for this outcome\n",
    "        final_pos_reviews = num_pos_reviews + future_pos_reviews\n",
    "        final_rating = final_pos_reviews / final_reviews\n",
    "\n",
    "        # Calculate the probability of this outcome\n",
    "        probability = binomial_probability(\n",
    "            additional_reviews, future_pos_reviews, initial_rating\n",
    "        )\n",
    "\n",
    "        # Store the final rating and its probability as a tuple\n",
    "        possible_outcomes.append((final_rating, probability))\n",
    "\n",
    "    # Now calculate the total probability of outcomes meeting the threshold\n",
    "    total_probability = sum(prob for rating, prob in possible_outcomes if rating >= bucket_threshold)\n",
    "\n",
    "    return total_probability\n",
    "\n",
    "\n",
    "# Loop over a range of final_reviews values and calculate the average probability\n",
    "review_range = range(75,90)  # Define the range of final_reviews (you can modify this range)\n",
    "total_prob_sum = 0  # Initialize sum of probabilities\n",
    "count = 0  # Counter for number of final_reviews values tested\n",
    "\n",
    "for final_reviews in review_range:\n",
    "    prob = bucket_chance(final_reviews)\n",
    "    total_prob_sum += prob  # Accumulate the total probability\n",
    "    count += 1  # Increment count\n",
    "\n",
    "# Calculate the average probability over the range\n",
    "average_probability = total_prob_sum / count\n",
    "print(f'The average probability above {bucket_threshold * 100}% for final reviews {review_range.start}-{review_range.stop - 1}: {average_probability:.4f}')\n"
   ]
  },
  {
   "cell_type": "code",
   "execution_count": null,
   "id": "c722b8f5-70e9-42f1-bf67-9b412e354b3d",
   "metadata": {},
   "outputs": [],
   "source": []
  }
 ],
 "metadata": {
  "kernelspec": {
   "display_name": "Python 3 (ipykernel)",
   "language": "python",
   "name": "python3"
  },
  "language_info": {
   "codemirror_mode": {
    "name": "ipython",
    "version": 3
   },
   "file_extension": ".py",
   "mimetype": "text/x-python",
   "name": "python",
   "nbconvert_exporter": "python",
   "pygments_lexer": "ipython3",
   "version": "3.12.7"
  }
 },
 "nbformat": 4,
 "nbformat_minor": 5
}
