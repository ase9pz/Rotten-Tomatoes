{
 "cells": [
  {
   "cell_type": "code",
   "execution_count": null,
   "metadata": {},
   "outputs": [],
   "source": [
    "import requests\n",
    "from bs4 import BeautifulSoup"
   ]
  },
  {
   "cell_type": "code",
   "execution_count": 1,
   "metadata": {},
   "outputs": [
    {
     "name": "stdout",
     "output_type": "stream",
     "text": [
      "Tomatometer Score: 94%\n"
     ]
    }
   ],
   "source": [
    "#Get Rotten Tomatoes Score\n",
    "\n",
    "url = \"https://www.rottentomatoes.com/m/nosferatu_2024\"\n",
    "\n",
    "headers = {\n",
    "    \"User-Agent\": \"Mozilla/5.0 (Windows NT 10.0; Win64; x64) AppleWebKit/537.36 (KHTML, like Gecko) Chrome/114.0.0.0 Safari/537.36\"\n",
    "}\n",
    "response = requests.get(url, headers=headers)\n",
    "\n",
    "soup = BeautifulSoup(response.content, \"html.parser\")\n",
    "\n",
    "tomatometer_element = soup.find(\"rt-text\", {\"slot\": \"criticsScore\"})\n",
    "\n",
    "if tomatometer_element:\n",
    "    tomatometer_score = tomatometer_element.text.strip()\n",
    "    print(f\"Tomatometer Score: {tomatometer_score}\")\n",
    "else:\n",
    "    print(\"Tomatometer Score not found.\")\n"
   ]
  },
  {
   "cell_type": "code",
   "execution_count": 2,
   "metadata": {},
   "outputs": [
    {
     "name": "stdout",
     "output_type": "stream",
     "text": [
      "Review Count: 79 Reviews\n"
     ]
    }
   ],
   "source": [
    "#Get Review Count\n",
    "\n",
    "url = \"https://www.rottentomatoes.com/m/mufasa\"\n",
    "\n",
    "headers = {\n",
    "    \"User-Agent\": \"Mozilla/5.0 (Windows NT 10.0; Win64; x64) AppleWebKit/537.36 (KHTML, like Gecko) Chrome/114.0.0.0 Safari/537.36\"\n",
    "}\n",
    "response = requests.get(url, headers=headers)\n",
    "\n",
    "soup = BeautifulSoup(response.content, \"html.parser\")\n",
    "\n",
    "review_element = soup.find(\"rt-link\", {\"slot\": \"criticsReviews\"})\n",
    "\n",
    "if review_element:\n",
    "    review_count = review_element.text.strip()\n",
    "    print(f\"Review Count: {review_count}\")\n",
    "else:\n",
    "    print(\"Review Count not found.\")\n"
   ]
  },
  {
   "cell_type": "code",
   "execution_count": null,
   "metadata": {},
   "outputs": [],
   "source": []
  }
 ],
 "metadata": {
  "kernelspec": {
   "display_name": ".venv",
   "language": "python",
   "name": "python3"
  },
  "language_info": {
   "codemirror_mode": {
    "name": "ipython",
    "version": 3
   },
   "file_extension": ".py",
   "mimetype": "text/x-python",
   "name": "python",
   "nbconvert_exporter": "python",
   "pygments_lexer": "ipython3",
   "version": "3.12.7"
  }
 },
 "nbformat": 4,
 "nbformat_minor": 2
}
